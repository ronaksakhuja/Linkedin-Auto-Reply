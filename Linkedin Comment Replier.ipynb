{
 "cells": [
  {
   "cell_type": "code",
   "execution_count": null,
   "metadata": {},
   "outputs": [],
   "source": [
    "from selenium import webdriver\n",
    "from time import sleep\n",
    "import matplotlib.pyplot as plt\n",
    "import matplotlib.image as mpimg\n",
    "%matplotlib inline\n",
    "from time import sleep\n",
    "from PIL import Image\n",
    "from io import BytesIO\n",
    "from selenium.webdriver.common.keys import Keys\n",
    "import pandas as pd\n",
    "import numpy as np\n",
    "import pyautogui\n",
    "import random\n",
    "from selenium.webdriver.common.action_chains import ActionChains\n",
    "from selenium.webdriver.common.proxy import Proxy, ProxyType\n",
    "from selenium.webdriver.chrome.options import DesiredCapabilities\n"
   ]
  },
  {
   "cell_type": "code",
   "execution_count": null,
   "metadata": {},
   "outputs": [],
   "source": [
    "CHROMEDRIVER_PATH='/Users/ronaksakhuja/Downloads/chromedriver'\n",
    "from selenium.webdriver.chrome.options import Options\n",
    "\n",
    "# chrome_options.add_argument(\"--headless\")  \n",
    "# chrome_options.binary_location = '/Applications/Google Chrome.app/Contents/MacOS/Google Chrome'   \n",
    "# chrome_options.add_argument('--user-agent=Mozilla/5.0 (Windows NT 10.0; Win64; x64) AppleWebKit/537.36 (KHTML, like Gecko) Chrome/68.0.3440.84 Safari/537.36')     \n",
    "# chrome_options.add_argument(\"log-level=3\")\n",
    "\n",
    "driver = webdriver.Chrome(CHROMEDRIVER_PATH)"
   ]
  },
  {
   "cell_type": "code",
   "execution_count": null,
   "metadata": {},
   "outputs": [],
   "source": [
    "driver.get(\"https://linkedin.com\")\n",
    "# Now login to linkedin and open the post where you want to reply to all comments\n",
    "# For me it was https://www.linkedin.com/feed/update/urn:li:activity:6683303088746504192/"
   ]
  },
  {
   "cell_type": "code",
   "execution_count": null,
   "metadata": {},
   "outputs": [],
   "source": [
    "#First step is to load all comments by repeatedly clicking on Load more comments\n",
    "error=0\n",
    "while error<5 :\n",
    "    try:\n",
    "        driver.find_element_by_css_selector('button[data-control-name=\"more_comments\"]').click()\n",
    "        sleep(2)\n",
    "    except:\n",
    "        print(\"Cant Find element\")\n",
    "        sleep(1)\n",
    "        error=error+1"
   ]
  },
  {
   "cell_type": "code",
   "execution_count": null,
   "metadata": {},
   "outputs": [],
   "source": [
    "# step 2 open reply boxes of all comments\n",
    "boxes=driver.find_elements_by_css_selector('button[data-control-name=\"reply\"]')[1:] # First is your own comment button\n",
    "for box in boxes:\n",
    "    try:\n",
    "        box.click()\n",
    "        sleep(1)\n",
    "\n",
    "    except:\n",
    "        print(box.get_attribute('outerHTML'))"
   ]
  },
  {
   "cell_type": "code",
   "execution_count": null,
   "metadata": {},
   "outputs": [],
   "source": [
    "# PRESSING THE LIKE BUTTONS\n",
    "\n",
    "# Before clicking all like buttons move on top of page\n",
    "driver.find_element_by_tag_name('body').send_keys(Keys.CONTROL + Keys.HOME)\n",
    "\n",
    "# now just click all likes button if they are not clicked before\n",
    "likers=driver.find_elements_by_css_selector(\"button[data-control-name=comment_like_toggle]\")\n",
    "for likesbox in likers:\n",
    "    if likesbox.get_attribute(\"aria-pressed\")=='false':\n",
    "        likesbox.click()\n",
    "    \n",
    "    \n",
    "    "
   ]
  },
  {
   "cell_type": "code",
   "execution_count": null,
   "metadata": {},
   "outputs": [],
   "source": [
    "# Step 3 finding the name of the person and relevant comment box\n",
    "comments=driver.find_elements_by_css_selector(\".comments-comments-list__comment-item\")\n",
    "for comment in comments:\n",
    "    try:\n",
    "        first_name=comment.find_element_by_css_selector(\".comments-post-meta__name span\").get_attribute(\"innerHTML\").split(\" \")[0]\n",
    "        first_name=first_name.lower().capitalize()\n",
    "        comment_string=\"Thank you so much \"+first_name\n",
    "        comment.find_element_by_css_selector(\"form\").find_element_by_css_selector(\"p\").click()\n",
    "        #comment.find_element_by_css_selector('button[data-control-name=\"reply\"]').click()\n",
    "        actions = ActionChains(driver)\n",
    "        actions.send_keys(comment_string)\n",
    "        actions.perform()\n",
    "    except:\n",
    "        print(comment.get_attribute(\"outerHTML\"))"
   ]
  },
  {
   "cell_type": "code",
   "execution_count": null,
   "metadata": {},
   "outputs": [],
   "source": [
    "# Step 4 click on reply button\n",
    "comments=driver.find_elements_by_css_selector(\".comments-comments-list__comment-item\")\n",
    "for comment in comments:\n",
    "    try:\n",
    "        comment.find_element_by_css_selector(\"button.comments-comment-box__submit-button\").click()\n",
    "    except:\n",
    "        first_name=comment.find_element_by_css_selector(\".comments-post-meta__name span\").get_attribute(\"innerHTML\").split(\" \")[0]\n",
    "        print(first_name)"
   ]
  }
 ],
 "metadata": {
  "kernelspec": {
   "display_name": "Python 3",
   "language": "python",
   "name": "python3"
  },
  "language_info": {
   "codemirror_mode": {
    "name": "ipython",
    "version": 3
   },
   "file_extension": ".py",
   "mimetype": "text/x-python",
   "name": "python",
   "nbconvert_exporter": "python",
   "pygments_lexer": "ipython3",
   "version": "3.7.7"
  }
 },
 "nbformat": 4,
 "nbformat_minor": 2
}
